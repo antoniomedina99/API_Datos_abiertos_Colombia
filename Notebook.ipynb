{
  "nbformat": 4,
  "nbformat_minor": 0,
  "metadata": {
    "colab": {
      "provenance": [],
      "authorship_tag": "ABX9TyMQuus+w8ubockM6iT+gItA",
      "include_colab_link": true
    },
    "kernelspec": {
      "name": "python3",
      "display_name": "Python 3"
    },
    "language_info": {
      "name": "python"
    }
  },
  "cells": [
    {
      "cell_type": "markdown",
      "metadata": {
        "id": "view-in-github",
        "colab_type": "text"
      },
      "source": [
        "<a href=\"https://colab.research.google.com/github/antoniomedina99/API_Datos_abiertos_Colombia/blob/main/Notebook.ipynb\" target=\"_parent\"><img src=\"https://colab.research.google.com/assets/colab-badge.svg\" alt=\"Open In Colab\"/></a>"
      ]
    },
    {
      "cell_type": "markdown",
      "source": [
        "Análisis exploratorio de datos"
      ],
      "metadata": {
        "id": "ZI3R4O2PKjJK"
      }
    },
    {
      "cell_type": "code",
      "source": [
        "# cargar librerías\n",
        "import pandas as pd\n"
      ],
      "metadata": {
        "id": "9Gx167XSIgxk"
      },
      "execution_count": 1,
      "outputs": []
    },
    {
      "cell_type": "code",
      "source": [],
      "metadata": {
        "id": "uafLSu9EJXeQ"
      },
      "execution_count": null,
      "outputs": []
    },
    {
      "cell_type": "code",
      "source": [],
      "metadata": {
        "id": "EnlnZtjSJWrk"
      },
      "execution_count": null,
      "outputs": []
    }
  ]
}